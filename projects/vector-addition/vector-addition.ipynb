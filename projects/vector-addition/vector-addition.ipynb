{
 "cells": [
  {
   "cell_type": "code",
   "execution_count": 1,
   "id": "ed0fc3b6-858a-4fc7-ab1e-910eda4061db",
   "metadata": {},
   "outputs": [],
   "source": [
    "import torch\n",
    "\n",
    "import triton\n",
    "import triton.language as tl"
   ]
  },
  {
   "cell_type": "markdown",
   "id": "e4554312-2bd0-4e3f-8d70-ddebcd119d70",
   "metadata": {},
   "source": [
    "CUDA GPU execution code achieves parallelism via the *single program, multiple data* (SPMD) paradigm. Under SPMD, "
   ]
  },
  {
   "cell_type": "markdown",
   "id": "0a9c212b-e74d-4b01-b7c4-e5ba033ac305",
   "metadata": {},
   "source": [
    "### @triton.jit decorator"
   ]
  },
  {
   "cell_type": "markdown",
   "id": "d6f39f83-4a0e-4027-bdf0-8a280efd6a84",
   "metadata": {},
   "source": [
    "The `@triton.jit` decorator triggers [JIT](https://en.wikipedia.org/wiki/Just-in-time_compilation)-compilation of the decorated function. Triton jit'd functions are compiled and run on a GPU.  As written in the help doc, when \"a jit'd function is called, `torch.tensor` arguments are implicitly converted to pointers using the `.data_ptr()` method.\" Further, they only have access to:\n",
    "\n",
    "   * python primitives,\n",
    "   * builtins within the triton package,\n",
    "   * arguments to this function,\n",
    "   * other jit'd functions\n",
    "   \n",
    "According to [this blog post](https://analyticssteps.com/blogs/openai-triton-programming-language-neural-networks), Triton kernels are single threaded, such that they process one command at a time. "
   ]
  },
  {
   "cell_type": "markdown",
   "id": "6ecf80ef-1459-421c-a80c-b8dbf15b1790",
   "metadata": {},
   "source": [
    "### Vector addition kernel"
   ]
  },
  {
   "cell_type": "markdown",
   "id": "884d03c2-d81c-48ee-b853-f7f9c37596d4",
   "metadata": {},
   "source": [
    "Below, we'll implement a vector addition kernel and decorate it with `@triton.jit`. \n",
    "\n"
   ]
  },
  {
   "cell_type": "markdown",
   "id": "7a0521db-fed6-43d6-bca4-24dcedacca11",
   "metadata": {},
   "source": [
    "The Triton class `constexpr` is used to store a value that is known at compile-time.\n",
    "\n",
    "The Triton function `program_id` returns the id of the current program instance along the given `axis`. The axis referes to the axis of the 3D launch grid and it must be either 0, 1, or 2. For example, if your program uses a 1D launch grid, the axis should be 0. \n",
    "\n",
    "\n"
   ]
  },
  {
   "cell_type": "code",
   "execution_count": 13,
   "id": "bccad632-0f3a-41d3-a608-38070b0ddfd5",
   "metadata": {},
   "outputs": [
    {
     "name": "stdout",
     "output_type": "stream",
     "text": [
      "Help on function program_id in module triton.language.core:\n",
      "\n",
      "program_id(axis, _builder=None)\n",
      "    Returns the id of the current program instance along the given :code:`axis`.\n",
      "    \n",
      "    :param axis: The axis of the 3D launch grid. Has to be either 0, 1 or 2.\n",
      "    :type axis: int\n",
      "\n"
     ]
    }
   ],
   "source": [
    "help(tl.program_id)"
   ]
  },
  {
   "cell_type": "code",
   "execution_count": 2,
   "id": "cf1d6f9f-32f6-4fb0-9858-e00827f072c7",
   "metadata": {},
   "outputs": [],
   "source": [
    "@triton.jit\n",
    "def add_kernel(\n",
    "    x_ptr,  # *Pointer* to first input vector\n",
    "    y_ptr,  # *Pointer* to second input vector\n",
    "    output_ptr,  # *Pointer* to output vector\n",
    "    n_elements,  # Size of the vector\n",
    "    BLOCK_SIZE: tl.constexpr,  # Number of elements each program should process\n",
    "                 # NOTE: `constexpr` so it can be used as a shape value\n",
    "):\n",
    "    # There are multiple 'program's processing different data. We identify which program\n",
    "    # we are here\n",
    "    pid = tl.program_id(axis=0)  # We use a 1D launch grid so axis is 0\n",
    "    # This program will process inputs that are offset from the initial data.\n",
    "    # for instance, if you had a vector of length 256 and block_size of 64, the programs\n",
    "    # would each access the elements [0:64, 64:128, 128:192, 192:256].\n",
    "    # Note that offsets is a list of pointers\n",
    "    block_start = pid * BLOCK_SIZE\n",
    "    offsets = block_start + tl.arange(0, BLOCK_SIZE)\n",
    "    # Create a mask to guard memory operations against out-of-bounds accesses\n",
    "    mask = offsets < n_elements\n",
    "    # Load x and y from DRAM, masking out any extra elements in case the input is not a\n",
    "    # multiple of the block size\n",
    "    x = tl.load(x_ptr + offsets, mask=mask)\n",
    "    y = tl.load(y_ptr + offsets, mask=mask)\n",
    "    output = x + y\n",
    "    # Write x + y back to DRAM\n",
    "    tl.store(output_ptr + offsets, output, mask=mask)"
   ]
  },
  {
   "cell_type": "code",
   "execution_count": 3,
   "id": "88dc6a46-a97c-426f-afeb-f2eb5f325d77",
   "metadata": {},
   "outputs": [],
   "source": [
    "def add(x: torch.Tensor, y: torch.Tensor):\n",
    "    # We need to preallocate the output\n",
    "    output = torch.empty_like(x)\n",
    "    assert x.is_cuda and y.is_cuda and output.is_cuda\n",
    "    n_elements = output.numel()\n",
    "    # The SPMD launch grid denotes the number of kernel instances that run in parallel.\n",
    "    # It is analogous to CUDA launch grids. It can be either Tuple[int], or Callable(metaparameters) -> Tuple[int]\n",
    "    # In this case, we use a 1D grid where the size is the number of blocks\n",
    "    grid = lambda meta: (triton.cdiv(n_elements, meta['BLOCK_SIZE']),)\n",
    "    # NOTE:\n",
    "    #  - each torch.tensor object is implicitly converted into a pointer to its first element.\n",
    "    #  - `triton.jit`'ed functions can be index with a launch grid to obtain a callable GPU kernel\n",
    "    #  - don't forget to pass meta-parameters as keywords arguments\n",
    "    add_kernel[grid](x, y, output, n_elements, BLOCK_SIZE=1024)\n",
    "    # We return a handle to z but, since `torch.cuda.synchronize()` hasn't been called, the kernel is still\n",
    "    # running asynchronously at this point.\n",
    "    return output"
   ]
  },
  {
   "cell_type": "code",
   "execution_count": 4,
   "id": "0f32ad66-8764-4c42-8772-aba9673b797f",
   "metadata": {},
   "outputs": [
    {
     "name": "stdout",
     "output_type": "stream",
     "text": [
      "tensor([1.3713, 1.3076, 0.4940,  ..., 0.6724, 1.2141, 0.9733], device='cuda:0')\n",
      "tensor([1.3713, 1.3076, 0.4940,  ..., 0.6724, 1.2141, 0.9733], device='cuda:0')\n",
      "The maximum difference between torch and triton is 0.0\n"
     ]
    }
   ],
   "source": [
    "torch.manual_seed(0)\n",
    "size = 98432\n",
    "x = torch.rand(size, device='cuda')\n",
    "y = torch.rand(size, device='cuda')\n",
    "output_torch = x + y\n",
    "output_triton = add(x, y)\n",
    "print(output_torch)\n",
    "print(output_triton)\n",
    "print(\n",
    "    f'The maximum difference between torch and triton is '\n",
    "    f'{torch.max(torch.abs(output_torch - output_triton))}'\n",
    ")"
   ]
  },
  {
   "cell_type": "code",
   "execution_count": 5,
   "id": "5dbdea74-c063-4236-aeee-91ef435b8b33",
   "metadata": {},
   "outputs": [],
   "source": [
    "@triton.testing.perf_report(\n",
    "    triton.testing.Benchmark(\n",
    "        x_names=['size'],  # argument names to use as an x-axis for the plot\n",
    "        x_vals=[\n",
    "            2 ** i for i in range(12, 28, 1)\n",
    "        ],  # different possible values for `x_name`\n",
    "        x_log=True,  # x axis is logarithmic\n",
    "        line_arg='provider',  # argument name whose value corresponds to a different line in the plot\n",
    "        line_vals=['triton', 'torch'],  # possible values for `line_arg`\n",
    "        line_names=['Triton', 'Torch'],  # label name for the lines\n",
    "        styles=[('blue', '-'), ('green', '-')],  # line styles\n",
    "        ylabel='GB/s',  # label name for the y-axis\n",
    "        plot_name='vector-add-performance',  # name for the plot. Used also as a file name for saving the plot.\n",
    "        args={},  # values for function arguments not in `x_names` and `y_name`\n",
    "    )\n",
    ")\n",
    "def benchmark(size, provider):\n",
    "    x = torch.rand(size, device='cuda', dtype=torch.float32)\n",
    "    y = torch.rand(size, device='cuda', dtype=torch.float32)\n",
    "    if provider == 'torch':\n",
    "        ms, min_ms, max_ms = triton.testing.do_bench(lambda: x + y)\n",
    "    if provider == 'triton':\n",
    "        ms, min_ms, max_ms = triton.testing.do_bench(lambda: add(x, y))\n",
    "    gbps = lambda ms: 12 * size / ms * 1e-6\n",
    "    return gbps(ms), gbps(max_ms), gbps(min_ms)"
   ]
  },
  {
   "cell_type": "code",
   "execution_count": 6,
   "id": "59dcdba9-d938-48ca-a60c-5ef7968d8de0",
   "metadata": {},
   "outputs": [
    {
     "name": "stderr",
     "output_type": "stream",
     "text": [
      "/home/ubuntu/.local/lib/python3.8/site-packages/pandas/core/computation/expressions.py:20: UserWarning: Pandas requires version '2.7.3' or newer of 'numexpr' (version '2.7.1' currently installed).\n",
      "  from pandas.core.computation.check import NUMEXPR_INSTALLED\n"
     ]
    },
    {
     "data": {
      "image/png": "[encoded data removed]",
      "text/plain": [
       "<Figure size 432x288 with 1 Axes>"
      ]
     },
     "metadata": {
      "needs_background": "light"
     },
     "output_type": "display_data"
    },
    {
     "name": "stdout",
     "output_type": "stream",
     "text": [
      "vector-add-performance:\n",
      "           size      Triton       Torch\n",
      "0        4096.0   12.000000   12.000000\n",
      "1        8192.0   24.000000   24.000000\n",
      "2       16384.0   48.000000   48.000000\n",
      "3       32768.0   93.801531   76.800002\n",
      "4       65536.0  127.999995  127.999995\n",
      "5      131072.0  219.428568  219.428568\n",
      "6      262144.0  307.200008  307.200008\n",
      "7      524288.0  384.000001  384.000001\n",
      "8     1048576.0  423.724127  423.724127\n",
      "9     2097152.0  446.836360  455.111110\n",
      "10    4194304.0  463.698115  471.623386\n",
      "11    8388608.0  472.615390  481.882362\n",
      "12   16777216.0  478.364979  485.451853\n",
      "13   33554432.0  477.783730  484.554523\n",
      "14   67108864.0  480.998167  488.599838\n",
      "15  134217728.0  480.117211  488.922591\n"
     ]
    }
   ],
   "source": [
    "benchmark.run(print_data=True, show_plots=True)"
   ]
  },
  {
   "cell_type": "code",
   "execution_count": null,
   "id": "efbbbd23-a102-47dc-ad5f-b862801979df",
   "metadata": {},
   "outputs": [],
   "source": []
  }
 ],
 "metadata": {
  "kernelspec": {
   "display_name": "Python 3",
   "language": "python",
   "name": "python3"
  },
  "language_info": {
   "codemirror_mode": {
    "name": "ipython",
    "version": 3
   },
   "file_extension": ".py",
   "mimetype": "text/x-python",
   "name": "python",
   "nbconvert_exporter": "python",
   "pygments_lexer": "ipython3",
   "version": "3.8.10"
  }
 },
 "nbformat": 4,
 "nbformat_minor": 5
}
