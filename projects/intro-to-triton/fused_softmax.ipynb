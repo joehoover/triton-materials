{
 "cells": [
  {
   "attachments": {},
   "cell_type": "markdown",
   "metadata": {},
   "source": [
    "# Fused Softmax"
   ]
  },
  {
   "attachments": {},
   "cell_type": "markdown",
   "metadata": {},
   "source": [
    "This notebook is adapted from the Triton [fused softmax](https://triton-lang.org/master/getting-started/tutorials/02-fused-softmax.html#) tutorial.  "
   ]
  },
  {
   "attachments": {},
   "cell_type": "markdown",
   "metadata": {},
   "source": [
    "The softmax function is defined as:\n",
    "\n",
    "$$\n",
    "\\text{Softmax}(\\bold{\\overrightarrow{x}})_i = \\frac{e^{x_i}}{\\sum_j{e^{x_j}}}\n",
    "$$"
   ]
  },
  {
   "cell_type": "code",
   "execution_count": 4,
   "metadata": {},
   "outputs": [],
   "source": [
    "import torch\n",
    "import triton\n",
    "import triton.language as tl"
   ]
  },
  {
   "cell_type": "code",
   "execution_count": null,
   "metadata": {},
   "outputs": [],
   "source": [
    "@torch.jit.script\n",
    "def niave_softmax(x):\n",
    "    \"\"\"\n",
    "    Compute row-wise softmax of X using native pytorch.\n",
    "\n",
    "    Note: The maximum element is substracted from all elements in order to avoid \n",
    "    overflows (i.e. numerical instability). Softmax is invariant to linear transformations. \n",
    "    \"\"\"\n",
    "\n",
    "    # read MN elements; write M elements\n",
    "    x_max = "
   ]
  }
 ],
 "metadata": {
  "kernelspec": {
   "display_name": "Python 3",
   "language": "python",
   "name": "python3"
  },
  "language_info": {
   "codemirror_mode": {
    "name": "ipython",
    "version": 3
   },
   "file_extension": ".py",
   "mimetype": "text/x-python",
   "name": "python",
   "nbconvert_exporter": "python",
   "pygments_lexer": "ipython3",
   "version": "3.9.16"
  },
  "orig_nbformat": 4
 },
 "nbformat": 4,
 "nbformat_minor": 2
}
